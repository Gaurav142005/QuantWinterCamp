{
  "nbformat": 4,
  "nbformat_minor": 0,
  "metadata": {
    "colab": {
      "provenance": []
    },
    "kernelspec": {
      "name": "python3",
      "display_name": "Python 3"
    },
    "language_info": {
      "name": "python"
    }
  },
  "cells": [
    {
      "cell_type": "markdown",
      "source": [
        "### **Question** **3**\n",
        "\n"
      ],
      "metadata": {
        "id": "fK9_YiAI7Ok4"
      }
    },
    {
      "cell_type": "markdown",
      "source": [
        "The problem can be solved using two loops in a brute force manner but that has a time complexity of O(n2).\n",
        "\n",
        "To make this more efficient, we make use of the idea of Number of Non Negative Integral Solutions of an Euation of the type a + b + c = n. The result is (n+2)C2 = (n + 2)(n + 1) / 2.\n",
        "\n",
        "What we notice here is that the number of possible triplets for n = Product of number of possible triplets for each digit of n. And the no. of possible triplets for each digit is calculated by (n + 2)C2."
      ],
      "metadata": {
        "id": "xDuZPKboZpzT"
      }
    },
    {
      "cell_type": "code",
      "execution_count": 68,
      "metadata": {
        "id": "MM00LIgXZHhp"
      },
      "outputs": [],
      "source": [
        "def comb(n):\n",
        "  return int((n + 2) * (n + 1) / 2)"
      ]
    },
    {
      "cell_type": "code",
      "source": [
        "def awesome(n):\n",
        "  count = 1 # Counter Varibale\n",
        "  while n > 0:  # Digit extraction\n",
        "    dig = n % 10\n",
        "    count *= comb(dig)  # Integer Division\n",
        "    n //= 10\n",
        "\n",
        "  return count"
      ],
      "metadata": {
        "id": "FHQlpth7ZyPK"
      },
      "execution_count": 69,
      "outputs": []
    },
    {
      "cell_type": "code",
      "source": [
        "awesome(11)"
      ],
      "metadata": {
        "colab": {
          "base_uri": "https://localhost:8080/"
        },
        "id": "W9RuYGbPX5ld",
        "outputId": "9bc35be0-47e4-464c-f9d6-4bbcf6d02f36"
      },
      "execution_count": 70,
      "outputs": [
        {
          "output_type": "execute_result",
          "data": {
            "text/plain": [
              "9"
            ]
          },
          "metadata": {},
          "execution_count": 70
        }
      ]
    },
    {
      "cell_type": "code",
      "source": [
        "awesome(3141)"
      ],
      "metadata": {
        "colab": {
          "base_uri": "https://localhost:8080/"
        },
        "id": "73ga_6SoX6w9",
        "outputId": "14704e84-20f1-477c-b2b5-243d478de41b"
      },
      "execution_count": 72,
      "outputs": [
        {
          "output_type": "execute_result",
          "data": {
            "text/plain": [
              "1350"
            ]
          },
          "metadata": {},
          "execution_count": 72
        }
      ]
    },
    {
      "cell_type": "code",
      "source": [
        "awesome(999)"
      ],
      "metadata": {
        "colab": {
          "base_uri": "https://localhost:8080/"
        },
        "id": "ehQj-rnaX8EY",
        "outputId": "1da2b8d0-72a4-4946-f281-90567ed2fbba"
      },
      "execution_count": 74,
      "outputs": [
        {
          "output_type": "execute_result",
          "data": {
            "text/plain": [
              "166375"
            ]
          },
          "metadata": {},
          "execution_count": 74
        }
      ]
    },
    {
      "cell_type": "code",
      "source": [
        "awesome(2718)"
      ],
      "metadata": {
        "colab": {
          "base_uri": "https://localhost:8080/"
        },
        "id": "ci-Qxq0HX89Y",
        "outputId": "ac29b5ef-1c7a-4796-8a8c-4cc21b283311"
      },
      "execution_count": 75,
      "outputs": [
        {
          "output_type": "execute_result",
          "data": {
            "text/plain": [
              "29160"
            ]
          },
          "metadata": {},
          "execution_count": 75
        }
      ]
    },
    {
      "cell_type": "code",
      "source": [
        "awesome(1000000000000)"
      ],
      "metadata": {
        "colab": {
          "base_uri": "https://localhost:8080/"
        },
        "id": "UEXiBIaTcBEq",
        "outputId": "b676a3de-1447-4ef0-d014-22b5c73e72b7"
      },
      "execution_count": 76,
      "outputs": [
        {
          "output_type": "execute_result",
          "data": {
            "text/plain": [
              "3"
            ]
          },
          "metadata": {},
          "execution_count": 76
        }
      ]
    }
  ]
}