{
  "nbformat": 4,
  "nbformat_minor": 0,
  "metadata": {
    "colab": {
      "provenance": []
    },
    "kernelspec": {
      "name": "python3",
      "display_name": "Python 3"
    },
    "language_info": {
      "name": "python"
    }
  },
  "cells": [
    {
      "cell_type": "markdown",
      "source": [
        "### **Question 2**"
      ],
      "metadata": {
        "id": "DeP473bV7X8E"
      }
    },
    {
      "cell_type": "markdown",
      "source": [
        "We import the required modules and load in the dataset."
      ],
      "metadata": {
        "id": "E4Ca6Bq8oMGk"
      }
    },
    {
      "cell_type": "code",
      "source": [
        "import pandas as pd\n",
        "import matplotlib.pyplot as plt\n",
        "import numpy as np\n",
        "\n",
        "df = pd.read_csv('/content/daily_data.csv')   # Loading the dataset"
      ],
      "metadata": {
        "id": "k6KqzJWI7dHO"
      },
      "execution_count": 28,
      "outputs": []
    },
    {
      "cell_type": "markdown",
      "source": [
        "This function returns the data.close value for a given date as input."
      ],
      "metadata": {
        "id": "Q4w9KQL4oRyn"
      }
    },
    {
      "cell_type": "code",
      "source": [
        "# Returns the close value for the given date\n",
        "def get_buying_price(date):\n",
        "  for i in df.index:\n",
        "    if date == df.datetime[i]:\n",
        "      return df.close[i]\n",
        "  return -1"
      ],
      "metadata": {
        "id": "VdG-9t4H3HNY"
      },
      "execution_count": 29,
      "outputs": []
    },
    {
      "cell_type": "markdown",
      "source": [
        "Now we have the main computational function which performs the entire trade."
      ],
      "metadata": {
        "id": "cUtdRLikoZWg"
      }
    },
    {
      "cell_type": "code",
      "source": [
        "# Taking input of the Stop Loss and Take Profit percentages\n",
        "sl = float(input(\"Enter the Stop Loss: \"))\n",
        "tp = float(input(\"Enter the Take Profit: \"))\n",
        "\n",
        "net = 0 # Stores the net income of the trade\n",
        "buy, sell = [], []  # Stores the byuing and selling lists\n",
        "state = \"Buy\"   # Stores the current state - Buy or Sell\n",
        "income = []\n",
        "for i in range(len(df)):\n",
        "  # If we want to buy on a day\n",
        "  if state == \"Buy\":\n",
        "      buy.append(df.datetime[i])\n",
        "      state = \"Sell\"\n",
        "      # Set the stop loss and take profit for the next trade\n",
        "      stop_loss = df.close[i] - sl * df.close[i]\n",
        "      take_profit = df.close[i] + tp * df.close[i]\n",
        "\n",
        "\n",
        "  # If we want to sell on a day\n",
        "  if state == \"Sell\":\n",
        "    if(df.close[i] >= take_profit):  # Square off trade to secure profit\n",
        "      p = df.close[i] - get_buying_price(buy[len(buy) - 1])  # get_buying_price(buy[len(buy) - 1]) is the buying price of the stock\n",
        "      income.append(p)\n",
        "      sell.append(df.datetime[i]) # Appending that date to datetime\n",
        "      state = \"Buy\"   # Changing state to buy\n",
        "\n",
        "    elif(df.close[i] <= stop_loss):  # Square off trade to limit loss\n",
        "      l = get_buying_price(buy[len(buy) - 1]) - df.close[i]\n",
        "      income.append(-l)\n",
        "      sell.append(df.datetime[i]) # Appending that date to datetime\n",
        "      state = \"Buy\" # Changing state to buy\n",
        "\n",
        "    elif i == (len(df) - 1):  # Last Day, we sell the stock at that price only\n",
        "      sell.append(df.datetime[i]) # Appending that date to datetime\n",
        "      k = df.close[i] - get_buying_price(buy[len(buy) - 1])\n",
        "      income.append(k)\n",
        "\n",
        "    else:\n",
        "        continue  # No trading on that day"
      ],
      "metadata": {
        "colab": {
          "base_uri": "https://localhost:8080/"
        },
        "id": "YCWQeD4f8a38",
        "outputId": "acdecfbf-77ca-4663-bfb6-49f956674ebf"
      },
      "execution_count": 30,
      "outputs": [
        {
          "name": "stdout",
          "output_type": "stream",
          "text": [
            "Enter the Stop Loss: 0.02\n",
            "Enter the Take Profit: 0.06\n"
          ]
        }
      ]
    },
    {
      "cell_type": "markdown",
      "source": [
        "Displaying the Data Frame"
      ],
      "metadata": {
        "id": "VCLNu7J2oi3M"
      }
    },
    {
      "cell_type": "code",
      "source": [
        "print(\"Net income: \", np.sum(income))\n",
        "data = pd.DataFrame({\n",
        "    \"Buy_Date\" : buy,\n",
        "    \"Sell_Date\" : sell,\n",
        "    \"Income_On_Trade\" : income\n",
        "})\n",
        "data"
      ],
      "metadata": {
        "colab": {
          "base_uri": "https://localhost:8080/",
          "height": 442
        },
        "id": "H_fmiTBtkA-q",
        "outputId": "41955638-b8b4-4dc3-b028-0b723104fd43"
      },
      "execution_count": 31,
      "outputs": [
        {
          "output_type": "stream",
          "name": "stdout",
          "text": [
            "Net income:  11571.340000000057\n"
          ]
        },
        {
          "output_type": "execute_result",
          "data": {
            "text/plain": [
              "       Buy_Date   Sell_Date  Income_On_Trade\n",
              "0    2018-01-01  2018-01-02          1445.00\n",
              "1    2018-01-03  2018-01-05          1829.03\n",
              "2    2018-01-06  2018-01-07          -750.64\n",
              "3    2018-01-08  2018-01-10          -351.68\n",
              "4    2018-01-11  2018-01-14          -396.50\n",
              "..          ...         ...              ...\n",
              "311  2021-12-27  2021-12-28         -3897.98\n",
              "312  2021-12-29  2022-01-03         -1058.74\n",
              "313  2022-01-04  2022-01-06         -2380.96\n",
              "314  2022-01-07  2022-01-08         -1027.82\n",
              "315  2022-01-09  2022-01-12           708.01\n",
              "\n",
              "[316 rows x 3 columns]"
            ],
            "text/html": [
              "\n",
              "  <div id=\"df-a5ef4347-612b-40e7-8e39-fc1522daa454\" class=\"colab-df-container\">\n",
              "    <div>\n",
              "<style scoped>\n",
              "    .dataframe tbody tr th:only-of-type {\n",
              "        vertical-align: middle;\n",
              "    }\n",
              "\n",
              "    .dataframe tbody tr th {\n",
              "        vertical-align: top;\n",
              "    }\n",
              "\n",
              "    .dataframe thead th {\n",
              "        text-align: right;\n",
              "    }\n",
              "</style>\n",
              "<table border=\"1\" class=\"dataframe\">\n",
              "  <thead>\n",
              "    <tr style=\"text-align: right;\">\n",
              "      <th></th>\n",
              "      <th>Buy_Date</th>\n",
              "      <th>Sell_Date</th>\n",
              "      <th>Income_On_Trade</th>\n",
              "    </tr>\n",
              "  </thead>\n",
              "  <tbody>\n",
              "    <tr>\n",
              "      <th>0</th>\n",
              "      <td>2018-01-01</td>\n",
              "      <td>2018-01-02</td>\n",
              "      <td>1445.00</td>\n",
              "    </tr>\n",
              "    <tr>\n",
              "      <th>1</th>\n",
              "      <td>2018-01-03</td>\n",
              "      <td>2018-01-05</td>\n",
              "      <td>1829.03</td>\n",
              "    </tr>\n",
              "    <tr>\n",
              "      <th>2</th>\n",
              "      <td>2018-01-06</td>\n",
              "      <td>2018-01-07</td>\n",
              "      <td>-750.64</td>\n",
              "    </tr>\n",
              "    <tr>\n",
              "      <th>3</th>\n",
              "      <td>2018-01-08</td>\n",
              "      <td>2018-01-10</td>\n",
              "      <td>-351.68</td>\n",
              "    </tr>\n",
              "    <tr>\n",
              "      <th>4</th>\n",
              "      <td>2018-01-11</td>\n",
              "      <td>2018-01-14</td>\n",
              "      <td>-396.50</td>\n",
              "    </tr>\n",
              "    <tr>\n",
              "      <th>...</th>\n",
              "      <td>...</td>\n",
              "      <td>...</td>\n",
              "      <td>...</td>\n",
              "    </tr>\n",
              "    <tr>\n",
              "      <th>311</th>\n",
              "      <td>2021-12-27</td>\n",
              "      <td>2021-12-28</td>\n",
              "      <td>-3897.98</td>\n",
              "    </tr>\n",
              "    <tr>\n",
              "      <th>312</th>\n",
              "      <td>2021-12-29</td>\n",
              "      <td>2022-01-03</td>\n",
              "      <td>-1058.74</td>\n",
              "    </tr>\n",
              "    <tr>\n",
              "      <th>313</th>\n",
              "      <td>2022-01-04</td>\n",
              "      <td>2022-01-06</td>\n",
              "      <td>-2380.96</td>\n",
              "    </tr>\n",
              "    <tr>\n",
              "      <th>314</th>\n",
              "      <td>2022-01-07</td>\n",
              "      <td>2022-01-08</td>\n",
              "      <td>-1027.82</td>\n",
              "    </tr>\n",
              "    <tr>\n",
              "      <th>315</th>\n",
              "      <td>2022-01-09</td>\n",
              "      <td>2022-01-12</td>\n",
              "      <td>708.01</td>\n",
              "    </tr>\n",
              "  </tbody>\n",
              "</table>\n",
              "<p>316 rows × 3 columns</p>\n",
              "</div>\n",
              "    <div class=\"colab-df-buttons\">\n",
              "\n",
              "  <div class=\"colab-df-container\">\n",
              "    <button class=\"colab-df-convert\" onclick=\"convertToInteractive('df-a5ef4347-612b-40e7-8e39-fc1522daa454')\"\n",
              "            title=\"Convert this dataframe to an interactive table.\"\n",
              "            style=\"display:none;\">\n",
              "\n",
              "  <svg xmlns=\"http://www.w3.org/2000/svg\" height=\"24px\" viewBox=\"0 -960 960 960\">\n",
              "    <path d=\"M120-120v-720h720v720H120Zm60-500h600v-160H180v160Zm220 220h160v-160H400v160Zm0 220h160v-160H400v160ZM180-400h160v-160H180v160Zm440 0h160v-160H620v160ZM180-180h160v-160H180v160Zm440 0h160v-160H620v160Z\"/>\n",
              "  </svg>\n",
              "    </button>\n",
              "\n",
              "  <style>\n",
              "    .colab-df-container {\n",
              "      display:flex;\n",
              "      gap: 12px;\n",
              "    }\n",
              "\n",
              "    .colab-df-convert {\n",
              "      background-color: #E8F0FE;\n",
              "      border: none;\n",
              "      border-radius: 50%;\n",
              "      cursor: pointer;\n",
              "      display: none;\n",
              "      fill: #1967D2;\n",
              "      height: 32px;\n",
              "      padding: 0 0 0 0;\n",
              "      width: 32px;\n",
              "    }\n",
              "\n",
              "    .colab-df-convert:hover {\n",
              "      background-color: #E2EBFA;\n",
              "      box-shadow: 0px 1px 2px rgba(60, 64, 67, 0.3), 0px 1px 3px 1px rgba(60, 64, 67, 0.15);\n",
              "      fill: #174EA6;\n",
              "    }\n",
              "\n",
              "    .colab-df-buttons div {\n",
              "      margin-bottom: 4px;\n",
              "    }\n",
              "\n",
              "    [theme=dark] .colab-df-convert {\n",
              "      background-color: #3B4455;\n",
              "      fill: #D2E3FC;\n",
              "    }\n",
              "\n",
              "    [theme=dark] .colab-df-convert:hover {\n",
              "      background-color: #434B5C;\n",
              "      box-shadow: 0px 1px 3px 1px rgba(0, 0, 0, 0.15);\n",
              "      filter: drop-shadow(0px 1px 2px rgba(0, 0, 0, 0.3));\n",
              "      fill: #FFFFFF;\n",
              "    }\n",
              "  </style>\n",
              "\n",
              "    <script>\n",
              "      const buttonEl =\n",
              "        document.querySelector('#df-a5ef4347-612b-40e7-8e39-fc1522daa454 button.colab-df-convert');\n",
              "      buttonEl.style.display =\n",
              "        google.colab.kernel.accessAllowed ? 'block' : 'none';\n",
              "\n",
              "      async function convertToInteractive(key) {\n",
              "        const element = document.querySelector('#df-a5ef4347-612b-40e7-8e39-fc1522daa454');\n",
              "        const dataTable =\n",
              "          await google.colab.kernel.invokeFunction('convertToInteractive',\n",
              "                                                    [key], {});\n",
              "        if (!dataTable) return;\n",
              "\n",
              "        const docLinkHtml = 'Like what you see? Visit the ' +\n",
              "          '<a target=\"_blank\" href=https://colab.research.google.com/notebooks/data_table.ipynb>data table notebook</a>'\n",
              "          + ' to learn more about interactive tables.';\n",
              "        element.innerHTML = '';\n",
              "        dataTable['output_type'] = 'display_data';\n",
              "        await google.colab.output.renderOutput(dataTable, element);\n",
              "        const docLink = document.createElement('div');\n",
              "        docLink.innerHTML = docLinkHtml;\n",
              "        element.appendChild(docLink);\n",
              "      }\n",
              "    </script>\n",
              "  </div>\n",
              "\n",
              "\n",
              "<div id=\"df-05adc381-3780-4547-ae57-239f5974da1c\">\n",
              "  <button class=\"colab-df-quickchart\" onclick=\"quickchart('df-05adc381-3780-4547-ae57-239f5974da1c')\"\n",
              "            title=\"Suggest charts\"\n",
              "            style=\"display:none;\">\n",
              "\n",
              "<svg xmlns=\"http://www.w3.org/2000/svg\" height=\"24px\"viewBox=\"0 0 24 24\"\n",
              "     width=\"24px\">\n",
              "    <g>\n",
              "        <path d=\"M19 3H5c-1.1 0-2 .9-2 2v14c0 1.1.9 2 2 2h14c1.1 0 2-.9 2-2V5c0-1.1-.9-2-2-2zM9 17H7v-7h2v7zm4 0h-2V7h2v10zm4 0h-2v-4h2v4z\"/>\n",
              "    </g>\n",
              "</svg>\n",
              "  </button>\n",
              "\n",
              "<style>\n",
              "  .colab-df-quickchart {\n",
              "      --bg-color: #E8F0FE;\n",
              "      --fill-color: #1967D2;\n",
              "      --hover-bg-color: #E2EBFA;\n",
              "      --hover-fill-color: #174EA6;\n",
              "      --disabled-fill-color: #AAA;\n",
              "      --disabled-bg-color: #DDD;\n",
              "  }\n",
              "\n",
              "  [theme=dark] .colab-df-quickchart {\n",
              "      --bg-color: #3B4455;\n",
              "      --fill-color: #D2E3FC;\n",
              "      --hover-bg-color: #434B5C;\n",
              "      --hover-fill-color: #FFFFFF;\n",
              "      --disabled-bg-color: #3B4455;\n",
              "      --disabled-fill-color: #666;\n",
              "  }\n",
              "\n",
              "  .colab-df-quickchart {\n",
              "    background-color: var(--bg-color);\n",
              "    border: none;\n",
              "    border-radius: 50%;\n",
              "    cursor: pointer;\n",
              "    display: none;\n",
              "    fill: var(--fill-color);\n",
              "    height: 32px;\n",
              "    padding: 0;\n",
              "    width: 32px;\n",
              "  }\n",
              "\n",
              "  .colab-df-quickchart:hover {\n",
              "    background-color: var(--hover-bg-color);\n",
              "    box-shadow: 0 1px 2px rgba(60, 64, 67, 0.3), 0 1px 3px 1px rgba(60, 64, 67, 0.15);\n",
              "    fill: var(--button-hover-fill-color);\n",
              "  }\n",
              "\n",
              "  .colab-df-quickchart-complete:disabled,\n",
              "  .colab-df-quickchart-complete:disabled:hover {\n",
              "    background-color: var(--disabled-bg-color);\n",
              "    fill: var(--disabled-fill-color);\n",
              "    box-shadow: none;\n",
              "  }\n",
              "\n",
              "  .colab-df-spinner {\n",
              "    border: 2px solid var(--fill-color);\n",
              "    border-color: transparent;\n",
              "    border-bottom-color: var(--fill-color);\n",
              "    animation:\n",
              "      spin 1s steps(1) infinite;\n",
              "  }\n",
              "\n",
              "  @keyframes spin {\n",
              "    0% {\n",
              "      border-color: transparent;\n",
              "      border-bottom-color: var(--fill-color);\n",
              "      border-left-color: var(--fill-color);\n",
              "    }\n",
              "    20% {\n",
              "      border-color: transparent;\n",
              "      border-left-color: var(--fill-color);\n",
              "      border-top-color: var(--fill-color);\n",
              "    }\n",
              "    30% {\n",
              "      border-color: transparent;\n",
              "      border-left-color: var(--fill-color);\n",
              "      border-top-color: var(--fill-color);\n",
              "      border-right-color: var(--fill-color);\n",
              "    }\n",
              "    40% {\n",
              "      border-color: transparent;\n",
              "      border-right-color: var(--fill-color);\n",
              "      border-top-color: var(--fill-color);\n",
              "    }\n",
              "    60% {\n",
              "      border-color: transparent;\n",
              "      border-right-color: var(--fill-color);\n",
              "    }\n",
              "    80% {\n",
              "      border-color: transparent;\n",
              "      border-right-color: var(--fill-color);\n",
              "      border-bottom-color: var(--fill-color);\n",
              "    }\n",
              "    90% {\n",
              "      border-color: transparent;\n",
              "      border-bottom-color: var(--fill-color);\n",
              "    }\n",
              "  }\n",
              "</style>\n",
              "\n",
              "  <script>\n",
              "    async function quickchart(key) {\n",
              "      const quickchartButtonEl =\n",
              "        document.querySelector('#' + key + ' button');\n",
              "      quickchartButtonEl.disabled = true;  // To prevent multiple clicks.\n",
              "      quickchartButtonEl.classList.add('colab-df-spinner');\n",
              "      try {\n",
              "        const charts = await google.colab.kernel.invokeFunction(\n",
              "            'suggestCharts', [key], {});\n",
              "      } catch (error) {\n",
              "        console.error('Error during call to suggestCharts:', error);\n",
              "      }\n",
              "      quickchartButtonEl.classList.remove('colab-df-spinner');\n",
              "      quickchartButtonEl.classList.add('colab-df-quickchart-complete');\n",
              "    }\n",
              "    (() => {\n",
              "      let quickchartButtonEl =\n",
              "        document.querySelector('#df-05adc381-3780-4547-ae57-239f5974da1c button');\n",
              "      quickchartButtonEl.style.display =\n",
              "        google.colab.kernel.accessAllowed ? 'block' : 'none';\n",
              "    })();\n",
              "  </script>\n",
              "</div>\n",
              "    </div>\n",
              "  </div>\n"
            ]
          },
          "metadata": {},
          "execution_count": 31
        }
      ]
    },
    {
      "cell_type": "markdown",
      "source": [
        "Plotting a Graph for the trade"
      ],
      "metadata": {
        "id": "brsqpj39om-o"
      }
    },
    {
      "cell_type": "code",
      "source": [
        "plt.plot(income)\n",
        "plt.title(\"Profit / Loss for each trade:-\")\n",
        "plt.xlabel(\"Trade Number\")\n",
        "plt.ylabel(\"Net Income on each trade\")\n",
        "plt.show()"
      ],
      "metadata": {
        "colab": {
          "base_uri": "https://localhost:8080/",
          "height": 472
        },
        "id": "yldbTePQnsMs",
        "outputId": "01c7317b-7816-49cd-cc6d-6ef3d7d1700c"
      },
      "execution_count": 32,
      "outputs": [
        {
          "output_type": "display_data",
          "data": {
            "text/plain": [
              "<Figure size 640x480 with 1 Axes>"
            ],
            "image/png": "[encoded data removed]"
          },
          "metadata": {}
        }
      ]
    }
  ]
}